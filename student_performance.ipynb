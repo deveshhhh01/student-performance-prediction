{
 "cells": [
  {
   "cell_type": "markdown",
   "id": "8a1854db",
   "metadata": {},
   "source": [
    "# 🎓 Student Performance Prediction (Data Science Project)\n",
    "This notebook predicts **student exam scores** based on **hours studied** using **Linear Regression**.\n",
    "It demonstrates **data analysis, visualization, and machine learning** in Python."
   ]
  },
  {
   "cell_type": "code",
   "execution_count": null,
   "id": "c655eaa7",
   "metadata": {},
   "outputs": [],
   "source": [
    "# Import libraries\n",
    "import pandas as pd\n",
    "import numpy as np\n",
    "import matplotlib.pyplot as plt\n",
    "import seaborn as sns\n",
    "from sklearn.model_selection import train_test_split\n",
    "from sklearn.linear_model import LinearRegression\n",
    "from sklearn.metrics import mean_squared_error, r2_score"
   ]
  },
  {
   "cell_type": "markdown",
   "id": "77f9d810",
   "metadata": {},
   "source": [
    "## 1. Load Dataset"
   ]
  },
  {
   "cell_type": "code",
   "execution_count": null,
   "id": "8024da76",
   "metadata": {},
   "outputs": [],
   "source": [
    "# Small sample dataset\n",
    "data = {\n",
    "    'Hours_Studied': [1.5, 2, 2.5, 3, 3.5, 4, 4.5, 5, 5.5, 6, 7, 8, 9],\n",
    "    'Exam_Score':    [35, 40, 45, 50, 55, 60, 62, 65, 70, 75, 80, 85, 90]\n",
    "}\n",
    "\n",
    "df = pd.DataFrame(data)\n",
    "print(\"Dataset Preview:\")\n",
    "print(df.head())"
   ]
  },
  {
   "cell_type": "markdown",
   "id": "7a5687ac",
   "metadata": {},
   "source": [
    "## 2. Exploratory Data Analysis"
   ]
  },
  {
   "cell_type": "code",
   "execution_count": null,
   "id": "709c7611",
   "metadata": {},
   "outputs": [],
   "source": [
    "print(\"\\nDataset Info:\")\n",
    "print(df.info())\n",
    "\n",
    "print(\"\\nSummary Statistics:\")\n",
    "print(df.describe())\n",
    "\n",
    "# Scatter plot\n",
    "plt.figure(figsize=(6,4))\n",
    "sns.scatterplot(x='Hours_Studied', y='Exam_Score', data=df, color='blue')\n",
    "plt.title(\"Hours Studied vs Exam Score\")\n",
    "plt.show()"
   ]
  },
  {
   "cell_type": "markdown",
   "id": "dea1323d",
   "metadata": {},
   "source": [
    "## 3. Train-Test Split"
   ]
  },
  {
   "cell_type": "code",
   "execution_count": null,
   "id": "0280a1ae",
   "metadata": {},
   "outputs": [],
   "source": [
    "X = df[['Hours_Studied']]\n",
    "y = df['Exam_Score']\n",
    "\n",
    "X_train, X_test, y_train, y_test = train_test_split(X, y, test_size=0.2, random_state=42)"
   ]
  },
  {
   "cell_type": "markdown",
   "id": "2af9f9a4",
   "metadata": {},
   "source": [
    "## 4. Train Linear Regression Model"
   ]
  },
  {
   "cell_type": "code",
   "execution_count": null,
   "id": "90f39bad",
   "metadata": {},
   "outputs": [],
   "source": [
    "model = LinearRegression()\n",
    "model.fit(X_train, y_train)"
   ]
  },
  {
   "cell_type": "markdown",
   "id": "21e1dd97",
   "metadata": {},
   "source": [
    "## 5. Predictions & Evaluation"
   ]
  },
  {
   "cell_type": "code",
   "execution_count": null,
   "id": "fa7df702",
   "metadata": {},
   "outputs": [],
   "source": [
    "y_pred = model.predict(X_test)\n",
    "\n",
    "print(\"\\nModel Coefficients:\")\n",
    "print(\"Slope:\", model.coef_[0])\n",
    "print(\"Intercept:\", model.intercept_)\n",
    "\n",
    "print(\"\\nPerformance Metrics:\")\n",
    "print(\"Mean Squared Error:\", mean_squared_error(y_test, y_pred))\n",
    "print(\"R2 Score:\", r2_score(y_test, y_pred))"
   ]
  },
  {
   "cell_type": "markdown",
   "id": "95175acd",
   "metadata": {},
   "source": [
    "## 6. Visualization of Regression Line"
   ]
  },
  {
   "cell_type": "code",
   "execution_count": null,
   "id": "d6f88d39",
   "metadata": {},
   "outputs": [],
   "source": [
    "plt.figure(figsize=(6,4))\n",
    "sns.scatterplot(x='Hours_Studied', y='Exam_Score', data=df, color='blue', label=\"Actual\")\n",
    "plt.plot(X, model.predict(X), color='red', label=\"Regression Line\")\n",
    "plt.title(\"Linear Regression: Hours Studied vs Exam Score\")\n",
    "plt.legend()\n",
    "plt.show()"
   ]
  }
 ],
 "metadata": {
  "kernelspec": {
   "display_name": "Python 3",
   "language": "python",
   "name": "python3"
  },
  "language_info": {
   "name": "python",
   "version": "3.10"
  }
 },
 "nbformat": 4,
 "nbformat_minor": 5
}
